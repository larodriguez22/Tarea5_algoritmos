{
 "cells": [
  {
   "cell_type": "code",
   "execution_count": 1,
   "metadata": {},
   "outputs": [
    {
     "name": "stdout",
     "output_type": "stream",
     "text": [
      "{0: [1, 2], 1: [0, 2], 2: [0, 1], 3: [4, 5], 4: [5], 5: [], 6: [8], 7: [8], 8: [], 9: []}\n"
     ]
    }
   ],
   "source": [
    "import cliqueGenerator as clqgen\n",
    "import random \n",
    "\n",
    "print(clqgen.generate(10, 3))"
   ]
  },
  {
   "cell_type": "code",
   "execution_count": 2,
   "metadata": {},
   "outputs": [
    {
     "data": {
      "image/png": "[encoded data removed]",
      "text/plain": [
       "<Figure size 640x480 with 1 Axes>"
      ]
     },
     "metadata": {},
     "output_type": "display_data"
    }
   ],
   "source": [
    "node_number = 20\n",
    "maximum_clique = 5\n",
    "graph = clqgen.generate(node_number, maximum_clique)\n",
    "clqgen.draw_graph(graph)"
   ]
  },
  {
   "cell_type": "code",
   "execution_count": 3,
   "metadata": {},
   "outputs": [
    {
     "name": "stdout",
     "output_type": "stream",
     "text": [
      "[[1, 0, 1, 1], [1, 0, 0, 1]]\n",
      "[[1, 0, 0, 1], [1, 0, 0, 1], [0, 0, 1, 1]]\n",
      "[[1, 0, 1, 1], [1, 0, 1, 1], [0, 1, 1, 1]]\n"
     ]
    }
   ],
   "source": [
    "old_population = [[1, 0, 1, 0], [1, 0, 0, 0]]\n",
    "\n",
    "# Generación de poblaciones in place. \n",
    "def generate_population(old_population: list, population_size=0, vertex_num=0):\n",
    "    # If it is empty, we generate for clique 3.\n",
    "    if old_population == []:\n",
    "        for _ in range(population_size):\n",
    "            old_population.append([0]*vertex_num)\n",
    "        for _ in range(2):\n",
    "            add_random_vertex_to_all_population(old_population)\n",
    "    else:\n",
    "            add_random_vertex_to_all_population(old_population)\n",
    "\n",
    "# Inplace.\n",
    "def add_random_vertex_to_all_population(old_population):\n",
    "    for individual in old_population:\n",
    "        no_vertices_positions = []\n",
    "        for vertex_index, vertex in enumerate(individual):\n",
    "            if vertex == 0: \n",
    "                no_vertices_positions.append(vertex_index)\n",
    "        new_vertex = random.randint(0, len(no_vertices_positions)-1)\n",
    "        individual[no_vertices_positions[new_vertex]] = 1\n",
    "\n",
    "generate_population(old_population)\n",
    "print(old_population)\n",
    "empty_population = []\n",
    "generate_population(empty_population, 3, 4)\n",
    "print(empty_population)\n",
    "generate_population(empty_population)\n",
    "print(empty_population)"
   ]
  },
  {
   "cell_type": "code",
   "execution_count": 4,
   "metadata": {},
   "outputs": [],
   "source": [
    "# Doesn't matters if it's in place.\n",
    "def fitness(individual, graph, current_clique_number) -> float:\n",
    "    total = 0\n",
    "    for index, has_vertex in enumerate(individual):\n",
    "        # Tengo que contar como n(n-1) arcos, porque cuento cada uno dos veces.\n",
    "        if has_vertex == 1:\n",
    "            total += len(graph[index])\n",
    "    return total/(current_clique_number*(current_clique_number-1))"
   ]
  },
  {
   "cell_type": "code",
   "execution_count": 5,
   "metadata": {},
   "outputs": [],
   "source": [
    "# Not in place.\n",
    "def crossover(individual1, individual2, k):\n",
    "    # Contrary of the other.\n",
    "    new_individual1, new_individual2 = non_k_crossover(individual1, individual2)\n",
    "    while sum(new_individual1) != k or sum(new_individual2) != k:\n",
    "        new_individual1, new_individual2 = non_k_crossover(individual1, individual2)\n",
    "    return (new_individual1, new_individual2)\n",
    "\n",
    "def non_k_crossover(individual1, individual2):\n",
    "    size = len(individual1)\n",
    "    random_permutation = [1 if random.random()>=0.5 else 0 for _ in range(size)]\n",
    "    new_individual1 = [individual1[i] if random_permutation[i] else individual2[i] \n",
    "                    for i in range(size)]\n",
    "    new_individual2 = [individual2[i] if random_permutation[i] else individual1[i] \n",
    "                    for i in range(size)]\n",
    "    return (new_individual1, new_individual2)"
   ]
  },
  {
   "cell_type": "code",
   "execution_count": 6,
   "metadata": {},
   "outputs": [],
   "source": [
    "# In place\n",
    "def mutation(individual):\n",
    "    size = len(individual)\n",
    "    mutation_position1 = random.randint(0, size-1)\n",
    "    mutation_position2 = random.randint(0, size-1)\n",
    "    auxiliar = individual[mutation_position1]\n",
    "    individual[mutation_position1] = individual[mutation_position2]\n",
    "    individual[mutation_position2] = auxiliar"
   ]
  },
  {
   "cell_type": "code",
   "execution_count": 7,
   "metadata": {},
   "outputs": [],
   "source": [
    "def has_k_clique(graph, k, population_size = 5, mutation_probability=0.05, generations=1000000):\n",
    "    generation = 0\n",
    "    population = []\n",
    "    generate_population(population, population_size, len(graph))\n",
    "    for _ in range(k-2):\n",
    "        generate_population(population)\n",
    "    while generation <= generations:\n",
    "        population_fitness = [round(fitness(individual, graph, k), 2) \n",
    "                              for individual in population]\n",
    "        if 1 <= sorted(population_fitness)[0]:\n",
    "            print(\"Has clique of size\", k,\n",
    "                  \"Population\", population,\n",
    "                  \"Generation\", generation)\n",
    "            return True\n",
    "        else: \n",
    "            population = [individual for _, individual in sorted(zip(population_fitness, population))]\n",
    "            for i in range(0, len(population)-1, 2):\n",
    "                new1, new2 = crossover(population[i], population[i+1], k)\n",
    "                population[i] = new1\n",
    "                population[i+1] = new2\n",
    "            if random.random() < mutation_probability:\n",
    "                individual_to_mutate = random.randint(0, len(population)-1)\n",
    "                mutation(population[individual_to_mutate])\n",
    "        generation += 1\n",
    "    print(\"DOES NOT HAVE clique of size\", k,\n",
    "                  \"Population\", population,\n",
    "                  \"Generation\", generation) \n",
    "    return False"
   ]
  },
  {
   "cell_type": "code",
   "execution_count": 8,
   "metadata": {},
   "outputs": [
    {
     "name": "stdout",
     "output_type": "stream",
     "text": [
      "Graph  {0: [1, 2, 3, 4, 5], 1: [0, 2, 3, 4, 5], 2: [0, 1, 3, 4, 5], 3: [0, 1, 2, 4, 5], 4: [0, 1, 2, 3, 5], 5: [0, 1, 2, 3, 4], 6: [7], 7: [9, 11], 8: [10], 9: [], 10: [], 11: [], 12: [13, 15, 17], 13: [17], 14: [15, 17], 15: [16], 16: [17], 17: [], 18: [19], 19: []}\n"
     ]
    },
    {
     "data": {
      "image/png": "[encoded data removed]",
      "text/plain": [
       "<Figure size 640x480 with 1 Axes>"
      ]
     },
     "metadata": {},
     "output_type": "display_data"
    }
   ],
   "source": [
    "graph = clqgen.generate(20, 6)\n",
    "print(\"Graph \", graph)\n",
    "clqgen.draw_graph(graph)"
   ]
  },
  {
   "cell_type": "code",
   "execution_count": 9,
   "metadata": {},
   "outputs": [
    {
     "name": "stdout",
     "output_type": "stream",
     "text": [
      "Has clique of size 3 Population [[0, 0, 0, 0, 0, 1, 0, 0, 1, 0, 0, 0, 0, 0, 0, 0, 0, 1, 0, 0], [0, 0, 1, 1, 0, 0, 0, 0, 0, 0, 0, 0, 0, 0, 0, 0, 0, 0, 1, 0], [1, 0, 0, 0, 1, 0, 1, 0, 0, 0, 0, 0, 0, 0, 0, 0, 0, 0, 0, 0], [1, 0, 0, 0, 0, 0, 0, 0, 0, 0, 0, 0, 1, 0, 0, 0, 1, 0, 0, 0], [0, 0, 0, 1, 0, 0, 0, 0, 0, 0, 1, 0, 0, 1, 0, 0, 0, 0, 0, 0]] Generation 0\n",
      "DOES NOT HAVE clique of size 4 Population [[0, 0, 0, 0, 0, 0, 0, 0, 0, 0, 1, 0, 0, 0, 0, 1, 0, 1, 0, 1], [0, 0, 0, 0, 0, 0, 0, 0, 0, 1, 0, 0, 0, 0, 0, 1, 1, 1, 0, 0], [1, 0, 0, 0, 0, 0, 0, 0, 1, 1, 0, 0, 0, 0, 0, 0, 1, 0, 0, 0], [0, 1, 0, 0, 0, 1, 0, 0, 0, 0, 0, 1, 0, 0, 0, 0, 0, 0, 1, 0], [0, 1, 0, 1, 0, 1, 0, 1, 0, 0, 0, 0, 0, 0, 0, 0, 0, 0, 0, 0]] Generation 100001\n",
      "DOES NOT HAVE clique of size 5 Population [[0, 0, 0, 0, 1, 0, 0, 0, 1, 0, 0, 0, 1, 0, 0, 0, 0, 1, 0, 1], [0, 0, 0, 0, 0, 0, 0, 0, 0, 0, 0, 0, 0, 1, 1, 1, 0, 1, 0, 1], [0, 1, 1, 0, 0, 1, 0, 0, 0, 1, 0, 0, 0, 1, 0, 0, 0, 0, 0, 0], [0, 1, 1, 0, 0, 0, 1, 1, 0, 0, 0, 0, 0, 0, 0, 0, 0, 0, 0, 1], [1, 1, 1, 0, 1, 0, 0, 0, 1, 0, 0, 0, 0, 0, 0, 0, 0, 0, 0, 0]] Generation 100001\n",
      "Maximum Clique:  3\n"
     ]
    }
   ],
   "source": [
    "def maximum_clique_size(graph, population_size = 5, mutation_probability=0.05, generations=1000000):\n",
    "    last = True\n",
    "    # Penúltimo.\n",
    "    second_last = True\n",
    "    for i in range(3,len(graph)):\n",
    "        second_last = last\n",
    "        last = has_k_clique(graph, i, population_size, mutation_probability, generations)\n",
    "        # If there was no clique found in the last two...\n",
    "        if not last and not second_last:\n",
    "            print(\"Maximum Clique: \", i-2)\n",
    "            break\n",
    "\n",
    "maximum_clique_size(graph, generations=100000)"
   ]
  }
 ],
 "metadata": {
  "kernelspec": {
   "display_name": "Python 3",
   "language": "python",
   "name": "python3"
  },
  "language_info": {
   "codemirror_mode": {
    "name": "ipython",
    "version": 3
   },
   "file_extension": ".py",
   "mimetype": "text/x-python",
   "name": "python",
   "nbconvert_exporter": "python",
   "pygments_lexer": "ipython3",
   "version": "3.11.6"
  }
 },
 "nbformat": 4,
 "nbformat_minor": 2
}
